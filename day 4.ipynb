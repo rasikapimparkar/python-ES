{
 "cells": [
  {
   "cell_type": "code",
   "execution_count": 2,
   "metadata": {},
   "outputs": [
    {
     "name": "stdout",
     "output_type": "stream",
     "text": [
      "The original string is : We are python programer\n",
      "The substring to find : Python\n",
      "What we think  we become ;We are python programer : []\n"
     ]
    }
   ],
   "source": [
    "test_str = \"We are python programer\"\n",
    "  \n",
    "# initializing substring \n",
    "test_sub = \"Python\"\n",
    "  \n",
    "# printing original string  \n",
    "print(\"The original string is : \" + test_str) \n",
    "  \n",
    "# printing substring  \n",
    "print(\"The substring to find : \" + test_sub) \n",
    "  \n",
    "# using list comprehension + startswith() \n",
    "# All occurrences of substring in string  \n",
    "res = [i for i in range(len(test_str)) if test_str.startswith(test_sub, i)] \n",
    "  \n",
    "# printing result  \n",
    "print(\"What we think  we become ;We are python programer : \" + str(res)) "
   ]
  },
  {
   "cell_type": "code",
   "execution_count": null,
   "metadata": {},
   "outputs": [],
   "source": []
  }
 ],
 "metadata": {
  "kernelspec": {
   "display_name": "Python 3",
   "language": "python",
   "name": "python3"
  },
  "language_info": {
   "codemirror_mode": {
    "name": "ipython",
    "version": 3
   },
   "file_extension": ".py",
   "mimetype": "text/x-python",
   "name": "python",
   "nbconvert_exporter": "python",
   "pygments_lexer": "ipython3",
   "version": "3.7.6"
  }
 },
 "nbformat": 4,
 "nbformat_minor": 4
}
